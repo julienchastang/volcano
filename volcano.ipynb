{
 "cells": [
  {
   "cell_type": "markdown",
   "metadata": {
    "ein.tags": [
     "worksheet-0"
    ]
   },
   "source": [
    "This notebook will determine the size of the > 255K \"blobs\" of interest in the satellite imagery data below.\n",
    "\n",
    "First, open the dataset which is on DAP/RAMADDA server at Unidata.\n",
    "\n",
    "We are using a library called **xray** to open and retrieve data out of the dataset."
   ]
  },
  {
   "cell_type": "code",
   "execution_count": 1,
   "metadata": {
    "autoscroll": "json-false",
    "collapsed": false,
    "ein.tags": [
     "worksheet-0"
    ]
   },
   "outputs": [
    {
     "data": {
      "text/plain": [
       "<xray.Dataset>\n",
       "Dimensions:     (auditCount: 2, time: 1, xc: 728, yc: 306)\n",
       "Coordinates:\n",
       "  * time        (time) int32 1429772880\n",
       "    lat         (yc, xc) float32 ...\n",
       "    lon         (yc, xc) float32 ...\n",
       "  * auditCount  (auditCount) int64 0 1\n",
       "  * xc          (xc) int64 0 1 2 3 4 5 6 7 8 9 10 11 12 13 14 15 16 17 18 19 ...\n",
       "  * yc          (yc) int64 0 1 2 3 4 5 6 7 8 9 10 11 12 13 14 15 16 17 18 19 ...\n",
       "Data variables:\n",
       "    version     int32 ...\n",
       "    sensorID    int32 ...\n",
       "    imageDate   int32 ...\n",
       "    imageTime   int32 ...\n",
       "    startLine   int32 ...\n",
       "    startElem   int32 ...\n",
       "    dataWidth   int32 ...\n",
       "    lineRes     int32 ...\n",
       "    elemRes     int32 ...\n",
       "    prefixSize  int32 ...\n",
       "    crDate      int32 ...\n",
       "    crTime      int32 ...\n",
       "    bands       int32 ...\n",
       "    auditTrail  (auditCount) |S64 ...\n",
       "    data        (time, yc, xc) float32 ...\n",
       "Attributes:\n",
       "    Conventions: CF-1.4\n",
       "    Source: McIDAS Area File\n",
       "    Satellite_Sensor: G-13 IMG    \n",
       "    DODS.strlen: 80\n",
       "    DODS.dimName: auditSize"
      ]
     },
     "execution_count": 1,
     "metadata": {},
     "output_type": "execute_result"
    }
   ],
   "source": [
    "import xray\n",
    "ds = xray.open_dataset('https://motherlode.ucar.edu/repository/opendap/8ad58eff-68ac-45d0-b805-bf72958bfe3f/entry.das', decode_times=False)\n",
    "ds\n"
   ]
  },
  {
   "cell_type": "markdown",
   "metadata": {
    "ein.tags": [
     "worksheet-0"
    ]
   },
   "source": [
    "Grab the **temperature**, **latitude**, and **longitude** data."
   ]
  },
  {
   "cell_type": "code",
   "execution_count": 2,
   "metadata": {
    "autoscroll": "json-false",
    "collapsed": false,
    "ein.tags": [
     "worksheet-0"
    ]
   },
   "outputs": [],
   "source": [
    "temperature = ds['data'].values[0]\n",
    "lat = ds['lat'].values\n",
    "lon = ds['lon'].values"
   ]
  },
  {
   "cell_type": "markdown",
   "metadata": {
    "ein.tags": [
     "worksheet-0"
    ]
   },
   "source": [
    "Sanity check the temperature values which are in Kelvin."
   ]
  },
  {
   "cell_type": "code",
   "execution_count": 3,
   "metadata": {
    "autoscroll": "json-false",
    "collapsed": false,
    "ein.tags": [
     "worksheet-0"
    ]
   },
   "outputs": [
    {
     "data": {
      "text/plain": [
       "array([[ 282.487854  ,  282.487854  ,  282.487854  , ...,  282.75640869,\n",
       "         282.21856689,  283.02426147],\n",
       "       [ 282.353302  ,  282.353302  ,  282.353302  , ...,  281.94854736,\n",
       "         281.81323242,  282.21856689],\n",
       "       [ 283.42468262,  283.69070435,  283.02426147, ...,  282.08364868,\n",
       "         281.94854736,  282.08364868],\n",
       "       ..., \n",
       "       [ 248.34147644,  253.22015381,  256.00119019, ...,  225.70620728,\n",
       "         230.67391968,  235.25868225],\n",
       "       [ 252.84150696,  253.97175598,  256.90625   , ...,  225.41722107,\n",
       "         229.87477112,  235.01274109],\n",
       "       [ 262.29742432,  264.94619751,  265.43362427, ...,  224.83476257,\n",
       "         227.68904114,  231.72305298]], dtype=float32)"
      ]
     },
     "execution_count": 3,
     "metadata": {},
     "output_type": "execute_result"
    }
   ],
   "source": [
    "temperature"
   ]
  },
  {
   "cell_type": "markdown",
   "metadata": {
    "ein.tags": [
     "worksheet-0"
    ]
   },
   "source": [
    "Next, plot these data to get our bearings. We first need to figure out the latitude and longitude extents of our plot."
   ]
  },
  {
   "cell_type": "code",
   "execution_count": 4,
   "metadata": {
    "autoscroll": "json-false",
    "collapsed": false,
    "ein.tags": [
     "worksheet-0"
    ]
   },
   "outputs": [
    {
     "data": {
      "text/plain": [
       "(-77.996666, -55.415195, -46.269196, -29.850424)"
      ]
     },
     "execution_count": 4,
     "metadata": {},
     "output_type": "execute_result"
    }
   ],
   "source": [
    "top = lat[0][0]\n",
    "bottom = lat[-1][-1]\n",
    "left = lon[0][0]\n",
    "right = lon[-1][-1]\n",
    "extents = (left, right, bottom, top)\n",
    "extents"
   ]
  },
  {
   "cell_type": "markdown",
   "metadata": {
    "ein.tags": [
     "worksheet-0"
    ]
   },
   "source": [
    "Let's start putting together our first plot with the help of **matplotlib** and **Cartopy** geoplotting library."
   ]
  },
  {
   "cell_type": "code",
   "execution_count": 5,
   "metadata": {
    "autoscroll": "json-false",
    "collapsed": false,
    "ein.tags": [
     "worksheet-0"
    ]
   },
   "outputs": [],
   "source": [
    "%matplotlib inline\n",
    "\n",
    "# importing cartopy and matplotlib stuff\n",
    "import cartopy.crs as ccrs\n",
    "import matplotlib.pyplot as plt\n",
    "import matplotlib as mpl\n",
    "import matplotlib.cm as cm\n",
    "\n",
    "\n",
    "# PlatteCarre projection\n",
    "pcprj = ccrs.PlateCarree()"
   ]
  },
  {
   "cell_type": "markdown",
   "metadata": {
    "ein.tags": [
     "worksheet-0"
    ]
   },
   "source": [
    "If we are going calculating the **areas** of regions of interest  in a plot we need to make use of an equal area projection, in this case the **Albers** equal area projection."
   ]
  },
  {
   "cell_type": "code",
   "execution_count": 6,
   "metadata": {
    "autoscroll": "json-false",
    "collapsed": false,
    "ein.tags": [
     "worksheet-0"
    ]
   },
   "outputs": [],
   "source": [
    "central_lon = (right-left)/2 + left\n",
    "central_lat = (top-bottom)/2 + bottom\n",
    "aeprj = ccrs.AlbersEqualArea(central_longitude=central_lon,\n",
    "                             central_latitude=central_lat,\n",
    "                             standard_parallels=(-20, -50))"
   ]
  },
  {
   "cell_type": "markdown",
   "metadata": {
    "ein.tags": [
     "worksheet-0"
    ]
   },
   "source": [
    "Now that we have defined our projection, we will make a first attempt to plot the data."
   ]
  },
  {
   "cell_type": "code",
   "execution_count": 7,
   "metadata": {
    "autoscroll": "json-false",
    "collapsed": false,
    "ein.tags": [
     "worksheet-0"
    ]
   },
   "outputs": [
    {
     "name": "stderr",
     "output_type": "stream",
     "text": [
      "/home/python/anaconda/envs/unidata/lib/python3.4/site-packages/cartopy/io/__init__.py:264: DownloadWarning: Downloading: http://naciscdn.org/naturalearth/50m/physical/ne_50m_coastline.zip\n",
      "  warnings.warn('Downloading: {}'.format(url), DownloadWarning)\n"
     ]
    },
    {
     "data": {
      "image/png": "[encoded data removed]",
      "text/plain": [
       "<matplotlib.figure.Figure at 0x7fd3399ef128>"
      ]
     },
     "metadata": {},
     "output_type": "display_data"
    }
   ],
   "source": [
    "  ax = plt.axes(projection=aeprj)\n",
    "  extents = (left, right, bottom, top)\n",
    "  ax.contourf(temperature, cmap=cm.gray,origin='lower', extent=extents,\n",
    "              transform=pcprj)\n",
    "  ax.coastlines(resolution='50m', color='green', linewidth=2)\n",
    "  ax.set_extent(extents, ccrs.Geodetic())\n",
    "  ax.gridlines()\n",
    "\n",
    "  plt.show()"
   ]
  },
  {
   "cell_type": "markdown",
   "metadata": {
    "ein.tags": [
     "worksheet-0"
    ]
   },
   "source": [
    "We are specifically interested in regions that are > 255K so let's mask out those data."
   ]
  },
  {
   "cell_type": "code",
   "execution_count": 8,
   "metadata": {
    "autoscroll": "json-false",
    "collapsed": false,
    "ein.tags": [
     "worksheet-0"
    ]
   },
   "outputs": [],
   "source": [
    "import numpy.ma as ma\n",
    "\n",
    "# There may be a much slicker/better more Pythonic, numpy oriented way to do\n",
    "# this.\n",
    "mask255 = ma.masked_where(temperature > 255,temperature).mask\n",
    "ones = ma.ones(temperature.shape).data\n",
    "t255 = ma.masked_values(ones,mask255)"
   ]
  },
  {
   "cell_type": "markdown",
   "metadata": {
    "ein.tags": [
     "worksheet-0"
    ]
   },
   "source": [
    "Let's plot these > 255K data."
   ]
  },
  {
   "cell_type": "code",
   "execution_count": 9,
   "metadata": {
    "autoscroll": "json-false",
    "collapsed": false,
    "ein.tags": [
     "worksheet-0"
    ]
   },
   "outputs": [
    {
     "data": {
      "image/png": "[encoded data removed]",
      "text/plain": [
       "<matplotlib.figure.Figure at 0x7fd3362ebc50>"
      ]
     },
     "metadata": {},
     "output_type": "display_data"
    }
   ],
   "source": [
    "ax = plt.axes(projection=aeprj)\n",
    "extents = (left, right, bottom, top)\n",
    "ax.contourf(t255, cmap=cm.gray,origin='lower', extent=extents, transform=pcprj)\n",
    "ax.coastlines(resolution='50m', color='green', linewidth=2)\n",
    "ax.set_extent(extents, ccrs.Geodetic())\n",
    "ax.gridlines()\n",
    "\n",
    "plt.show()"
   ]
  },
  {
   "cell_type": "markdown",
   "metadata": {
    "ein.tags": [
     "worksheet-0"
    ]
   },
   "source": [
    "Now let's zoom into to our region of interest."
   ]
  },
  {
   "cell_type": "code",
   "execution_count": 10,
   "metadata": {
    "autoscroll": "json-false",
    "collapsed": false,
    "ein.tags": [
     "worksheet-0"
    ]
   },
   "outputs": [],
   "source": [
    "itop = -72\n",
    "ibottom = -68\n",
    "ileft = -33\n",
    "iright = -37\n",
    "img_extents = (itop, ibottom, ileft, iright)"
   ]
  },
  {
   "cell_type": "code",
   "execution_count": 11,
   "metadata": {
    "autoscroll": "json-false",
    "collapsed": false,
    "ein.tags": [
     "worksheet-0"
    ]
   },
   "outputs": [
    {
     "data": {
      "image/png": "[encoded data removed]",
      "text/plain": [
       "<matplotlib.figure.Figure at 0x7fd332326780>"
      ]
     },
     "metadata": {},
     "output_type": "display_data"
    }
   ],
   "source": [
    "ax = plt.axes(projection=aeprj)\n",
    "extents = (left, right, bottom, top)\n",
    "ax.contourf(t255, cmap=cm.gray,origin='lower', extent=extents, transform=pcprj)\n",
    "ax.coastlines(resolution='50m', color='green', linewidth=2)\n",
    "ax.set_extent(img_extents, ccrs.Geodetic())\n",
    "ax.gridlines()\n",
    "\n",
    "plt.show()"
   ]
  },
  {
   "cell_type": "markdown",
   "metadata": {
    "ein.tags": [
     "worksheet-0"
    ]
   },
   "source": [
    "If we are going to calculate the area of the > 255K \"blobs\", we first need to determine the area of this zoomed in region. We can do this with the help of  Cartopy and the fact that we are using an equal area projection."
   ]
  },
  {
   "cell_type": "code",
   "execution_count": 12,
   "metadata": {
    "autoscroll": "json-false",
    "collapsed": false,
    "ein.tags": [
     "worksheet-0"
    ]
   },
   "outputs": [
    {
     "data": {
      "text/plain": [
       "73368.87122900107"
      ]
     },
     "execution_count": 12,
     "metadata": {},
     "output_type": "execute_result"
    }
   ],
   "source": [
    "x0, y0 = aeprj.transform_point(ileft,ibottom, pcprj)\n",
    "x1, y1 = aeprj.transform_point(iright,itop, pcprj)\n",
    "# units are in meters so let's divide by 10^6\n",
    "area = ((y1-y0) * (x1-x0))/1000000\n",
    "area"
   ]
  },
  {
   "cell_type": "markdown",
   "metadata": {
    "ein.tags": [
     "worksheet-0"
    ]
   },
   "source": [
    "THe region we are looking at is about 73368KM^2. Next we need to determine the areas of the blobs. For this part, we will use some image manipulation trickery."
   ]
  },
  {
   "cell_type": "code",
   "execution_count": 13,
   "metadata": {
    "autoscroll": "json-false",
    "collapsed": false,
    "ein.tags": [
     "worksheet-0"
    ]
   },
   "outputs": [
    {
     "data": {
      "image/png": "[encoded data removed]",
      "text/plain": [
       "<matplotlib.figure.Figure at 0x7fd332229128>"
      ]
     },
     "metadata": {},
     "output_type": "display_data"
    }
   ],
   "source": [
    "# Easy to work with color map. This will make more sense below when we are\n",
    "# counting colored pixels.\n",
    "cmap = mpl.colors.ListedColormap([[0., 1., 0]])\n",
    "\n",
    "ax = plt.axes(projection=aeprj)\n",
    "ax.contourf(t255, cmap=cmap,origin='lower', extent=extents, transform=pcprj)\n",
    "ax.set_extent(img_extents, ccrs.Geodetic())\n",
    "plt.savefig(\"volcano.png\",bbox_inches='tight', pad_inches=0)\n",
    "plt.show()"
   ]
  },
  {
   "cell_type": "markdown",
   "metadata": {
    "ein.tags": [
     "worksheet-0"
    ]
   },
   "source": [
    "At this point, it is just a matter just a matter counting the white pixel versus green pixels, obtaining a ratio, and multiplying by th area."
   ]
  },
  {
   "cell_type": "code",
   "execution_count": 14,
   "metadata": {
    "autoscroll": "json-false",
    "collapsed": false,
    "ein.tags": [
     "worksheet-0"
    ]
   },
   "outputs": [
    {
     "name": "stderr",
     "output_type": "stream",
     "text": [
      "/home/python/anaconda/envs/unidata/lib/python3.4/site-packages/ipykernel/__main__.py:8: DeprecationWarning: Specified size is invalid for this data type.\n",
      "Size will be ignored in NumPy 1.7 but may throw an exception in future versions.\n",
      "/home/python/anaconda/envs/unidata/lib/python3.4/site-packages/ipykernel/__main__.py:10: DeprecationWarning: Specified size is invalid for this data type.\n",
      "Size will be ignored in NumPy 1.7 but may throw an exception in future versions.\n"
     ]
    },
    {
     "data": {
      "text/plain": [
       "(29267, 9139)"
      ]
     },
     "execution_count": 14,
     "metadata": {},
     "output_type": "execute_result"
    }
   ],
   "source": [
    "import matplotlib.image as mpimg\n",
    "import numpy as np\n",
    "\n",
    "img = mpimg.imread('volcano.png')[:, :, :3]\n",
    "img.shape\n",
    "img2 = img.reshape(img.shape[0]*img.shape[1], 3)\n",
    "white = len([i for i in img2\n",
    "             if np.array_equal(i, np.array([1.,  1., 1.], dtype='f32'))])\n",
    "green = len([i for i in img2\n",
    "             if np.array_equal(i, np.array([0.,  1., 0.], dtype='f32'))])\n",
    "white, green"
   ]
  },
  {
   "cell_type": "code",
   "execution_count": 15,
   "metadata": {
    "autoscroll": "json-false",
    "collapsed": false,
    "ein.tags": [
     "worksheet-0"
    ]
   },
   "outputs": [
    {
     "data": {
      "text/plain": [
       "17458.681304010854"
      ]
     },
     "execution_count": 15,
     "metadata": {},
     "output_type": "execute_result"
    }
   ],
   "source": [
    "blob = green/(green + white) * area\n",
    "blob"
   ]
  },
  {
   "cell_type": "markdown",
   "metadata": {
    "ein.tags": [
     "worksheet-0"
    ]
   },
   "source": [
    "The size of the blobs are about 17459 KM^2."
   ]
  }
 ],
 "metadata": {
  "kernelspec": {
   "display_name": "Python 3",
   "language": "python",
   "name": "python3"
  },
  "language_info": {
   "codemirror_mode": {
    "name": "ipython",
    "version": 3
   },
   "file_extension": ".py",
   "mimetype": "text/x-python",
   "name": "python",
   "nbconvert_exporter": "python",
   "pygments_lexer": "ipython3",
   "version": "3.4.3"
  },
  "name": "volcano.ipynb"
 },
 "nbformat": 4,
 "nbformat_minor": 0
}
